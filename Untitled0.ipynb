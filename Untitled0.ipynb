{
  "nbformat": 4,
  "nbformat_minor": 0,
  "metadata": {
    "colab": {
      "name": "Untitled0.ipynb",
      "version": "0.3.2",
      "provenance": [],
      "include_colab_link": true
    },
    "kernelspec": {
      "name": "python3",
      "display_name": "Python 3"
    }
  },
  "cells": [
    {
      "cell_type": "markdown",
      "metadata": {
        "id": "view-in-github",
        "colab_type": "text"
      },
      "source": [
        "<a href=\"https://colab.research.google.com/github/ChiuHungWei/Python/blob/master/Untitled0.ipynb\" target=\"_parent\"><img src=\"https://colab.research.google.com/assets/colab-badge.svg\" alt=\"Open In Colab\"/></a>"
      ]
    },
    {
      "cell_type": "code",
      "metadata": {
        "id": "kwkcJrKp7x0N",
        "colab_type": "code",
        "outputId": "94106c5f-17ef-4393-d7f7-25e1c0c1a7cb",
        "colab": {
          "base_uri": "https://localhost:8080/",
          "height": 328
        }
      },
      "source": [
        "def main():\n",
        "    def calendar_month(year, month):\n",
        "        if(year % 4 == 0 and year % 100 != 0) or (year % 400 == 0 and year % 4000 != 0):\n",
        "            run = True\n",
        "        else:\n",
        "            run = False\n",
        "        i = 1900\n",
        "        sum = 0\n",
        "        while i <= year - 1:\n",
        "            if(i % 4 == 0 and i % 100 != 0) or (i % 400 == 0 and i % 4000 != 0):\n",
        "                sum += 366\n",
        "            else:\n",
        "                sum += 365\n",
        "            i += 1\n",
        "        j = 1\n",
        "        while j < month:\n",
        "            if j in (1, 3, 5, 7, 8, 10, 12):\n",
        "                sum += 31\n",
        "            elif j == 2:\n",
        "                if run:\n",
        "                    sum += 29\n",
        "                else:\n",
        "                    sum += 28\n",
        "            else:\n",
        "                sum += 30\n",
        "            j += 1\n",
        "        week = (sum + 1) % 7\n",
        "        if month in (1, 3, 5, 7, 8, 10, 12):\n",
        "            day = 31\n",
        "        elif month == 2:               #二月的嵌套判断，潤年二月29，平年28\n",
        "            if run:\n",
        "                day = 29\n",
        "            else:\n",
        "                day = 28\n",
        "        else:\n",
        "            day = 30\n",
        "        print()\n",
        "        print(\"\\t\\t{}年{}月\".format(year, month))\n",
        "        print()\n",
        "        print(\"日\\t一\\t二\\t三\\t四\\t五\\t六\")\n",
        "        print()\n",
        "        count = 0    #定義一个計數器，以便後面的換行\n",
        "        k = 1\n",
        "        while k <= week:   #每个月的開始第一周前面的空格數\n",
        "            k += 1\n",
        "            print(\"\\t\", end=\"\")\n",
        "            count += 1\n",
        "        p = 1\n",
        "        while p <= day:    #顯示天數\n",
        "            print(p, \"\\t\", end=\"\")     #打印  table 不换行\n",
        "            p += 1\n",
        "            count += 1\n",
        "            if count % 7 == 0:\n",
        "                print(\"\\n\")        #count=7 進行换行\n",
        "\n",
        "    def calendar_year(year):\n",
        "        for i in range(1, 13):\n",
        "            calendar_month(year, i)\n",
        "            print()\n",
        "\n",
        "    key = int(input('查看年曆請按1，查看月曆請按2:'))\n",
        "    if key == 1:\n",
        "        year = int(input('請輸入年分:'))\n",
        "        calendar_year(year)\n",
        "\n",
        "    elif key == 2:\n",
        "        year, month = eval(input('請輸入年和月份:'))\n",
        "        calendar_month(year, month)\n",
        "\n",
        "main()\n"
      ],
      "execution_count": 0,
      "outputs": [
        {
          "output_type": "stream",
          "text": [
            "查看年曆請按1，查看月曆請按2:2\n",
            "請輸入年和月份:2019,6\n",
            "\n",
            "\t\t2019年6月\n",
            "\n",
            "日\t一\t二\t三\t四\t五\t六\n",
            "\n",
            "\t\t\t\t\t\t1 \t\n",
            "\n",
            "2 \t3 \t4 \t5 \t6 \t7 \t8 \t\n",
            "\n",
            "9 \t10 \t11 \t12 \t13 \t14 \t15 \t\n",
            "\n",
            "16 \t17 \t18 \t19 \t20 \t21 \t22 \t\n",
            "\n",
            "23 \t24 \t25 \t26 \t27 \t28 \t29 \t\n",
            "\n",
            "30 \t"
          ],
          "name": "stdout"
        }
      ]
    }
  ]
}